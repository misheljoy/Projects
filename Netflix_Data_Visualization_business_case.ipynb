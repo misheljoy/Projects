{
  "cells": [
    {
      "cell_type": "markdown",
      "metadata": {
        "id": "view-in-github",
        "colab_type": "text"
      },
      "source": [
        "<a href=\"https://colab.research.google.com/github/misheljoy/Projects/blob/main/Netflix_Data_Visualization_business_case.ipynb\" target=\"_parent\"><img src=\"https://colab.research.google.com/assets/colab-badge.svg\" alt=\"Open In Colab\"/></a>"
      ]
    },
    {
      "cell_type": "markdown",
      "source": [
        "Defining Problem Statement and Analysing basic metrics :\n",
        "\n",
        "\n",
        "*   analysing the dataset given for the ott platform and coming up with business insights and recommendations\n",
        "\n"
      ],
      "metadata": {
        "id": "EkfbTj9ID9xw"
      }
    },
    {
      "cell_type": "code",
      "source": [
        "!wget https://d2beiqkhq929f0.cloudfront.net/public_assets/assets/000/000/940/original/netflix.csv"
      ],
      "metadata": {
        "colab": {
          "base_uri": "https://localhost:8080/"
        },
        "id": "9Vq9cqrbD5jG",
        "outputId": "cfa141f5-ad21-44bd-9813-ccdf48c9e93e"
      },
      "execution_count": null,
      "outputs": [
        {
          "output_type": "stream",
          "name": "stdout",
          "text": [
            "--2023-02-18 10:18:08--  https://d2beiqkhq929f0.cloudfront.net/public_assets/assets/000/000/940/original/netflix.csv\n",
            "Resolving d2beiqkhq929f0.cloudfront.net (d2beiqkhq929f0.cloudfront.net)... 13.226.251.107, 13.226.251.62, 13.226.251.17, ...\n",
            "Connecting to d2beiqkhq929f0.cloudfront.net (d2beiqkhq929f0.cloudfront.net)|13.226.251.107|:443... connected.\n",
            "HTTP request sent, awaiting response... 200 OK\n",
            "Length: 3399671 (3.2M) [text/plain]\n",
            "Saving to: ‘netflix.csv.2’\n",
            "\n",
            "\rnetflix.csv.2         0%[                    ]       0  --.-KB/s               \rnetflix.csv.2       100%[===================>]   3.24M  --.-KB/s    in 0.06s   \n",
            "\n",
            "2023-02-18 10:18:08 (58.1 MB/s) - ‘netflix.csv.2’ saved [3399671/3399671]\n",
            "\n"
          ]
        }
      ]
    },
    {
      "cell_type": "code",
      "execution_count": null,
      "metadata": {
        "colab": {
          "base_uri": "https://localhost:8080/",
          "height": 1000
        },
        "id": "_m90qmsCYnha",
        "outputId": "d7849bdc-b10e-4032-c2a9-7ed0c074e5c9"
      },
      "outputs": [
        {
          "output_type": "execute_result",
          "data": {
            "text/plain": [
              "     show_id     type                  title         director  \\\n",
              "0         s1    Movie   Dick Johnson Is Dead  Kirsten Johnson   \n",
              "1         s2  TV Show          Blood & Water              NaN   \n",
              "2         s3  TV Show              Ganglands  Julien Leclercq   \n",
              "3         s4  TV Show  Jailbirds New Orleans              NaN   \n",
              "4         s5  TV Show           Kota Factory              NaN   \n",
              "...      ...      ...                    ...              ...   \n",
              "8802   s8803    Movie                 Zodiac    David Fincher   \n",
              "8803   s8804  TV Show            Zombie Dumb              NaN   \n",
              "8804   s8805    Movie             Zombieland  Ruben Fleischer   \n",
              "8805   s8806    Movie                   Zoom     Peter Hewitt   \n",
              "8806   s8807    Movie                 Zubaan      Mozez Singh   \n",
              "\n",
              "                                                   cast        country  \\\n",
              "0                                                   NaN  United States   \n",
              "1     Ama Qamata, Khosi Ngema, Gail Mabalane, Thaban...   South Africa   \n",
              "2     Sami Bouajila, Tracy Gotoas, Samuel Jouy, Nabi...            NaN   \n",
              "3                                                   NaN            NaN   \n",
              "4     Mayur More, Jitendra Kumar, Ranjan Raj, Alam K...          India   \n",
              "...                                                 ...            ...   \n",
              "8802  Mark Ruffalo, Jake Gyllenhaal, Robert Downey J...  United States   \n",
              "8803                                                NaN            NaN   \n",
              "8804  Jesse Eisenberg, Woody Harrelson, Emma Stone, ...  United States   \n",
              "8805  Tim Allen, Courteney Cox, Chevy Chase, Kate Ma...  United States   \n",
              "8806  Vicky Kaushal, Sarah-Jane Dias, Raaghav Chanan...          India   \n",
              "\n",
              "              date_added  release_year rating   duration  \\\n",
              "0     September 25, 2021          2020  PG-13     90 min   \n",
              "1     September 24, 2021          2021  TV-MA  2 Seasons   \n",
              "2     September 24, 2021          2021  TV-MA   1 Season   \n",
              "3     September 24, 2021          2021  TV-MA   1 Season   \n",
              "4     September 24, 2021          2021  TV-MA  2 Seasons   \n",
              "...                  ...           ...    ...        ...   \n",
              "8802   November 20, 2019          2007      R    158 min   \n",
              "8803        July 1, 2019          2018  TV-Y7  2 Seasons   \n",
              "8804    November 1, 2019          2009      R     88 min   \n",
              "8805    January 11, 2020          2006     PG     88 min   \n",
              "8806       March 2, 2019          2015  TV-14    111 min   \n",
              "\n",
              "                                              listed_in  \\\n",
              "0                                         Documentaries   \n",
              "1       International TV Shows, TV Dramas, TV Mysteries   \n",
              "2     Crime TV Shows, International TV Shows, TV Act...   \n",
              "3                                Docuseries, Reality TV   \n",
              "4     International TV Shows, Romantic TV Shows, TV ...   \n",
              "...                                                 ...   \n",
              "8802                     Cult Movies, Dramas, Thrillers   \n",
              "8803             Kids' TV, Korean TV Shows, TV Comedies   \n",
              "8804                            Comedies, Horror Movies   \n",
              "8805                 Children & Family Movies, Comedies   \n",
              "8806     Dramas, International Movies, Music & Musicals   \n",
              "\n",
              "                                            description  \n",
              "0     As her father nears the end of his life, filmm...  \n",
              "1     After crossing paths at a party, a Cape Town t...  \n",
              "2     To protect his family from a powerful drug lor...  \n",
              "3     Feuds, flirtations and toilet talk go down amo...  \n",
              "4     In a city of coaching centers known to train I...  \n",
              "...                                                 ...  \n",
              "8802  A political cartoonist, a crime reporter and a...  \n",
              "8803  While living alone in a spooky town, a young g...  \n",
              "8804  Looking to survive in a world taken over by zo...  \n",
              "8805  Dragged from civilian life, a former superhero...  \n",
              "8806  A scrappy but poor boy worms his way into a ty...  \n",
              "\n",
              "[8807 rows x 12 columns]"
            ],
            "text/html": [
              "\n",
              "  <div id=\"df-37fdcb1e-11b2-40f5-8abd-1d6fe4c64ff6\">\n",
              "    <div class=\"colab-df-container\">\n",
              "      <div>\n",
              "<style scoped>\n",
              "    .dataframe tbody tr th:only-of-type {\n",
              "        vertical-align: middle;\n",
              "    }\n",
              "\n",
              "    .dataframe tbody tr th {\n",
              "        vertical-align: top;\n",
              "    }\n",
              "\n",
              "    .dataframe thead th {\n",
              "        text-align: right;\n",
              "    }\n",
              "</style>\n",
              "<table border=\"1\" class=\"dataframe\">\n",
              "  <thead>\n",
              "    <tr style=\"text-align: right;\">\n",
              "      <th></th>\n",
              "      <th>show_id</th>\n",
              "      <th>type</th>\n",
              "      <th>title</th>\n",
              "      <th>director</th>\n",
              "      <th>cast</th>\n",
              "      <th>country</th>\n",
              "      <th>date_added</th>\n",
              "      <th>release_year</th>\n",
              "      <th>rating</th>\n",
              "      <th>duration</th>\n",
              "      <th>listed_in</th>\n",
              "      <th>description</th>\n",
              "    </tr>\n",
              "  </thead>\n",
              "  <tbody>\n",
              "    <tr>\n",
              "      <th>0</th>\n",
              "      <td>s1</td>\n",
              "      <td>Movie</td>\n",
              "      <td>Dick Johnson Is Dead</td>\n",
              "      <td>Kirsten Johnson</td>\n",
              "      <td>NaN</td>\n",
              "      <td>United States</td>\n",
              "      <td>September 25, 2021</td>\n",
              "      <td>2020</td>\n",
              "      <td>PG-13</td>\n",
              "      <td>90 min</td>\n",
              "      <td>Documentaries</td>\n",
              "      <td>As her father nears the end of his life, filmm...</td>\n",
              "    </tr>\n",
              "    <tr>\n",
              "      <th>1</th>\n",
              "      <td>s2</td>\n",
              "      <td>TV Show</td>\n",
              "      <td>Blood &amp; Water</td>\n",
              "      <td>NaN</td>\n",
              "      <td>Ama Qamata, Khosi Ngema, Gail Mabalane, Thaban...</td>\n",
              "      <td>South Africa</td>\n",
              "      <td>September 24, 2021</td>\n",
              "      <td>2021</td>\n",
              "      <td>TV-MA</td>\n",
              "      <td>2 Seasons</td>\n",
              "      <td>International TV Shows, TV Dramas, TV Mysteries</td>\n",
              "      <td>After crossing paths at a party, a Cape Town t...</td>\n",
              "    </tr>\n",
              "    <tr>\n",
              "      <th>2</th>\n",
              "      <td>s3</td>\n",
              "      <td>TV Show</td>\n",
              "      <td>Ganglands</td>\n",
              "      <td>Julien Leclercq</td>\n",
              "      <td>Sami Bouajila, Tracy Gotoas, Samuel Jouy, Nabi...</td>\n",
              "      <td>NaN</td>\n",
              "      <td>September 24, 2021</td>\n",
              "      <td>2021</td>\n",
              "      <td>TV-MA</td>\n",
              "      <td>1 Season</td>\n",
              "      <td>Crime TV Shows, International TV Shows, TV Act...</td>\n",
              "      <td>To protect his family from a powerful drug lor...</td>\n",
              "    </tr>\n",
              "    <tr>\n",
              "      <th>3</th>\n",
              "      <td>s4</td>\n",
              "      <td>TV Show</td>\n",
              "      <td>Jailbirds New Orleans</td>\n",
              "      <td>NaN</td>\n",
              "      <td>NaN</td>\n",
              "      <td>NaN</td>\n",
              "      <td>September 24, 2021</td>\n",
              "      <td>2021</td>\n",
              "      <td>TV-MA</td>\n",
              "      <td>1 Season</td>\n",
              "      <td>Docuseries, Reality TV</td>\n",
              "      <td>Feuds, flirtations and toilet talk go down amo...</td>\n",
              "    </tr>\n",
              "    <tr>\n",
              "      <th>4</th>\n",
              "      <td>s5</td>\n",
              "      <td>TV Show</td>\n",
              "      <td>Kota Factory</td>\n",
              "      <td>NaN</td>\n",
              "      <td>Mayur More, Jitendra Kumar, Ranjan Raj, Alam K...</td>\n",
              "      <td>India</td>\n",
              "      <td>September 24, 2021</td>\n",
              "      <td>2021</td>\n",
              "      <td>TV-MA</td>\n",
              "      <td>2 Seasons</td>\n",
              "      <td>International TV Shows, Romantic TV Shows, TV ...</td>\n",
              "      <td>In a city of coaching centers known to train I...</td>\n",
              "    </tr>\n",
              "    <tr>\n",
              "      <th>...</th>\n",
              "      <td>...</td>\n",
              "      <td>...</td>\n",
              "      <td>...</td>\n",
              "      <td>...</td>\n",
              "      <td>...</td>\n",
              "      <td>...</td>\n",
              "      <td>...</td>\n",
              "      <td>...</td>\n",
              "      <td>...</td>\n",
              "      <td>...</td>\n",
              "      <td>...</td>\n",
              "      <td>...</td>\n",
              "    </tr>\n",
              "    <tr>\n",
              "      <th>8802</th>\n",
              "      <td>s8803</td>\n",
              "      <td>Movie</td>\n",
              "      <td>Zodiac</td>\n",
              "      <td>David Fincher</td>\n",
              "      <td>Mark Ruffalo, Jake Gyllenhaal, Robert Downey J...</td>\n",
              "      <td>United States</td>\n",
              "      <td>November 20, 2019</td>\n",
              "      <td>2007</td>\n",
              "      <td>R</td>\n",
              "      <td>158 min</td>\n",
              "      <td>Cult Movies, Dramas, Thrillers</td>\n",
              "      <td>A political cartoonist, a crime reporter and a...</td>\n",
              "    </tr>\n",
              "    <tr>\n",
              "      <th>8803</th>\n",
              "      <td>s8804</td>\n",
              "      <td>TV Show</td>\n",
              "      <td>Zombie Dumb</td>\n",
              "      <td>NaN</td>\n",
              "      <td>NaN</td>\n",
              "      <td>NaN</td>\n",
              "      <td>July 1, 2019</td>\n",
              "      <td>2018</td>\n",
              "      <td>TV-Y7</td>\n",
              "      <td>2 Seasons</td>\n",
              "      <td>Kids' TV, Korean TV Shows, TV Comedies</td>\n",
              "      <td>While living alone in a spooky town, a young g...</td>\n",
              "    </tr>\n",
              "    <tr>\n",
              "      <th>8804</th>\n",
              "      <td>s8805</td>\n",
              "      <td>Movie</td>\n",
              "      <td>Zombieland</td>\n",
              "      <td>Ruben Fleischer</td>\n",
              "      <td>Jesse Eisenberg, Woody Harrelson, Emma Stone, ...</td>\n",
              "      <td>United States</td>\n",
              "      <td>November 1, 2019</td>\n",
              "      <td>2009</td>\n",
              "      <td>R</td>\n",
              "      <td>88 min</td>\n",
              "      <td>Comedies, Horror Movies</td>\n",
              "      <td>Looking to survive in a world taken over by zo...</td>\n",
              "    </tr>\n",
              "    <tr>\n",
              "      <th>8805</th>\n",
              "      <td>s8806</td>\n",
              "      <td>Movie</td>\n",
              "      <td>Zoom</td>\n",
              "      <td>Peter Hewitt</td>\n",
              "      <td>Tim Allen, Courteney Cox, Chevy Chase, Kate Ma...</td>\n",
              "      <td>United States</td>\n",
              "      <td>January 11, 2020</td>\n",
              "      <td>2006</td>\n",
              "      <td>PG</td>\n",
              "      <td>88 min</td>\n",
              "      <td>Children &amp; Family Movies, Comedies</td>\n",
              "      <td>Dragged from civilian life, a former superhero...</td>\n",
              "    </tr>\n",
              "    <tr>\n",
              "      <th>8806</th>\n",
              "      <td>s8807</td>\n",
              "      <td>Movie</td>\n",
              "      <td>Zubaan</td>\n",
              "      <td>Mozez Singh</td>\n",
              "      <td>Vicky Kaushal, Sarah-Jane Dias, Raaghav Chanan...</td>\n",
              "      <td>India</td>\n",
              "      <td>March 2, 2019</td>\n",
              "      <td>2015</td>\n",
              "      <td>TV-14</td>\n",
              "      <td>111 min</td>\n",
              "      <td>Dramas, International Movies, Music &amp; Musicals</td>\n",
              "      <td>A scrappy but poor boy worms his way into a ty...</td>\n",
              "    </tr>\n",
              "  </tbody>\n",
              "</table>\n",
              "<p>8807 rows × 12 columns</p>\n",
              "</div>\n",
              "      <button class=\"colab-df-convert\" onclick=\"convertToInteractive('df-37fdcb1e-11b2-40f5-8abd-1d6fe4c64ff6')\"\n",
              "              title=\"Convert this dataframe to an interactive table.\"\n",
              "              style=\"display:none;\">\n",
              "        \n",
              "  <svg xmlns=\"http://www.w3.org/2000/svg\" height=\"24px\"viewBox=\"0 0 24 24\"\n",
              "       width=\"24px\">\n",
              "    <path d=\"M0 0h24v24H0V0z\" fill=\"none\"/>\n",
              "    <path d=\"M18.56 5.44l.94 2.06.94-2.06 2.06-.94-2.06-.94-.94-2.06-.94 2.06-2.06.94zm-11 1L8.5 8.5l.94-2.06 2.06-.94-2.06-.94L8.5 2.5l-.94 2.06-2.06.94zm10 10l.94 2.06.94-2.06 2.06-.94-2.06-.94-.94-2.06-.94 2.06-2.06.94z\"/><path d=\"M17.41 7.96l-1.37-1.37c-.4-.4-.92-.59-1.43-.59-.52 0-1.04.2-1.43.59L10.3 9.45l-7.72 7.72c-.78.78-.78 2.05 0 2.83L4 21.41c.39.39.9.59 1.41.59.51 0 1.02-.2 1.41-.59l7.78-7.78 2.81-2.81c.8-.78.8-2.07 0-2.86zM5.41 20L4 18.59l7.72-7.72 1.47 1.35L5.41 20z\"/>\n",
              "  </svg>\n",
              "      </button>\n",
              "      \n",
              "  <style>\n",
              "    .colab-df-container {\n",
              "      display:flex;\n",
              "      flex-wrap:wrap;\n",
              "      gap: 12px;\n",
              "    }\n",
              "\n",
              "    .colab-df-convert {\n",
              "      background-color: #E8F0FE;\n",
              "      border: none;\n",
              "      border-radius: 50%;\n",
              "      cursor: pointer;\n",
              "      display: none;\n",
              "      fill: #1967D2;\n",
              "      height: 32px;\n",
              "      padding: 0 0 0 0;\n",
              "      width: 32px;\n",
              "    }\n",
              "\n",
              "    .colab-df-convert:hover {\n",
              "      background-color: #E2EBFA;\n",
              "      box-shadow: 0px 1px 2px rgba(60, 64, 67, 0.3), 0px 1px 3px 1px rgba(60, 64, 67, 0.15);\n",
              "      fill: #174EA6;\n",
              "    }\n",
              "\n",
              "    [theme=dark] .colab-df-convert {\n",
              "      background-color: #3B4455;\n",
              "      fill: #D2E3FC;\n",
              "    }\n",
              "\n",
              "    [theme=dark] .colab-df-convert:hover {\n",
              "      background-color: #434B5C;\n",
              "      box-shadow: 0px 1px 3px 1px rgba(0, 0, 0, 0.15);\n",
              "      filter: drop-shadow(0px 1px 2px rgba(0, 0, 0, 0.3));\n",
              "      fill: #FFFFFF;\n",
              "    }\n",
              "  </style>\n",
              "\n",
              "      <script>\n",
              "        const buttonEl =\n",
              "          document.querySelector('#df-37fdcb1e-11b2-40f5-8abd-1d6fe4c64ff6 button.colab-df-convert');\n",
              "        buttonEl.style.display =\n",
              "          google.colab.kernel.accessAllowed ? 'block' : 'none';\n",
              "\n",
              "        async function convertToInteractive(key) {\n",
              "          const element = document.querySelector('#df-37fdcb1e-11b2-40f5-8abd-1d6fe4c64ff6');\n",
              "          const dataTable =\n",
              "            await google.colab.kernel.invokeFunction('convertToInteractive',\n",
              "                                                     [key], {});\n",
              "          if (!dataTable) return;\n",
              "\n",
              "          const docLinkHtml = 'Like what you see? Visit the ' +\n",
              "            '<a target=\"_blank\" href=https://colab.research.google.com/notebooks/data_table.ipynb>data table notebook</a>'\n",
              "            + ' to learn more about interactive tables.';\n",
              "          element.innerHTML = '';\n",
              "          dataTable['output_type'] = 'display_data';\n",
              "          await google.colab.output.renderOutput(dataTable, element);\n",
              "          const docLink = document.createElement('div');\n",
              "          docLink.innerHTML = docLinkHtml;\n",
              "          element.appendChild(docLink);\n",
              "        }\n",
              "      </script>\n",
              "    </div>\n",
              "  </div>\n",
              "  "
            ]
          },
          "metadata": {},
          "execution_count": 2
        }
      ],
      "source": [
        "#  loading the data\n",
        "import pandas as pd\n",
        "import numpy as np\n",
        "data = pd.read_csv(\"netflix.csv\")\n",
        "data"
      ]
    },
    {
      "cell_type": "code",
      "execution_count": null,
      "metadata": {
        "colab": {
          "base_uri": "https://localhost:8080/"
        },
        "id": "c9MaAhOVAFLa",
        "outputId": "5999581d-7529-4165-8c92-cd8d4b8f27f0"
      },
      "outputs": [
        {
          "output_type": "execute_result",
          "data": {
            "text/plain": [
              "show_id            0\n",
              "type               0\n",
              "title              0\n",
              "director        2634\n",
              "cast             825\n",
              "country          831\n",
              "date_added        10\n",
              "release_year       0\n",
              "rating             4\n",
              "duration           3\n",
              "listed_in          0\n",
              "description        0\n",
              "dtype: int64"
            ]
          },
          "metadata": {},
          "execution_count": 3
        }
      ],
      "source": [
        "# missing value detection\n",
        "data.isna().sum()"
      ]
    },
    {
      "cell_type": "code",
      "execution_count": null,
      "metadata": {
        "id": "VhcHY7qQo0Vk"
      },
      "outputs": [],
      "source": [
        "# droping the rows which dont have neither director or cast information\n",
        "data.dropna(subset= [\"director\",\"cast\"],how = \"all\",inplace = True)"
      ]
    },
    {
      "cell_type": "code",
      "execution_count": null,
      "metadata": {
        "id": "G97Ha_T9pMbD"
      },
      "outputs": [],
      "source": [
        "# Missing Value Treatment\n",
        "mode_by_direc = data.groupby(\"cast\")[\"director\"].transform(lambda x : x.mode()[0] if not x.mode().empty else None)\n",
        "data[\"director\"].fillna(mode_by_direc, inplace = True)\n",
        "\n",
        "mode_by_direc = data.groupby(\"country\")[\"director\"].transform(lambda x : x.mode()[0] if not x.mode().empty else None)\n",
        "data[\"director\"].fillna(mode_by_direc, inplace = True)\n",
        "\n",
        "mode_by_cast = data.groupby(\"director\")[\"cast\"].transform(lambda x : x.mode()[0] if not x.mode().empty else None)\n",
        "data[\"cast\"].fillna(mode_by_cast, inplace = True)\n",
        "\n",
        "mode_by_cast = data.groupby(\"country\")[\"cast\"].transform(lambda x : x.mode()[0] if not x.mode().empty else None)\n",
        "data[\"cast\"].fillna(mode_by_cast, inplace = True)\n",
        "\n",
        "mode_by_country = data.groupby(\"director\")[\"country\"].transform(lambda x : x.mode()[0] if not x.mode().empty else None)\n",
        "data[\"country\"].fillna(mode_by_country, inplace = True)\n",
        "\n",
        "mode_by_country = data.groupby(\"cast\")[\"country\"].transform(lambda x : x.mode()[0] if not x.mode().empty else None)\n",
        "data[\"country\"].fillna(mode_by_country, inplace = True)"
      ]
    },
    {
      "cell_type": "code",
      "execution_count": null,
      "metadata": {
        "id": "WQRyNhrGporS"
      },
      "outputs": [],
      "source": [
        "data[\"date_added\"].fillna(data[\"date_added\"].mode()[0],inplace = True)\n",
        "\n",
        "data[\"rating\"].fillna(data[\"rating\"].mode()[0],inplace = True)\n",
        "\n",
        "data[\"duration\"].fillna(0,inplace = True)\n",
        "\n",
        "data[\"director\"].fillna(\"unknown\",inplace = True)\n",
        "data[\"country\"].fillna(\"unknown\",inplace = True)\n",
        "data[\"cast\"].fillna(\"unknown\",inplace = True)"
      ]
    },
    {
      "cell_type": "code",
      "execution_count": null,
      "metadata": {
        "id": "MUjzamOPumIU",
        "colab": {
          "base_uri": "https://localhost:8080/"
        },
        "outputId": "0b8f9e52-9934-4ef2-8f30-1d917804aad6"
      },
      "outputs": [
        {
          "output_type": "execute_result",
          "data": {
            "text/plain": [
              "show_id         0\n",
              "type            0\n",
              "title           0\n",
              "director        0\n",
              "cast            0\n",
              "country         0\n",
              "date_added      0\n",
              "release_year    0\n",
              "rating          0\n",
              "duration        0\n",
              "listed_in       0\n",
              "description     0\n",
              "dtype: int64"
            ]
          },
          "metadata": {},
          "execution_count": 7
        }
      ],
      "source": [
        "data.isna().sum()"
      ]
    },
    {
      "cell_type": "code",
      "execution_count": null,
      "metadata": {
        "colab": {
          "base_uri": "https://localhost:8080/"
        },
        "id": "hTGFEUA1Y1in",
        "outputId": "c4ba6519-48de-4b0c-8909-5bcdfd7271e2"
      },
      "outputs": [
        {
          "output_type": "stream",
          "name": "stdout",
          "text": [
            "<class 'pandas.core.frame.DataFrame'>\n",
            "Int64Index: 8455 entries, 0 to 8806\n",
            "Data columns (total 12 columns):\n",
            " #   Column        Non-Null Count  Dtype \n",
            "---  ------        --------------  ----- \n",
            " 0   show_id       8455 non-null   object\n",
            " 1   type          8455 non-null   object\n",
            " 2   title         8455 non-null   object\n",
            " 3   director      8455 non-null   object\n",
            " 4   cast          8455 non-null   object\n",
            " 5   country       8455 non-null   object\n",
            " 6   date_added    8455 non-null   object\n",
            " 7   release_year  8455 non-null   int64 \n",
            " 8   rating        8455 non-null   object\n",
            " 9   duration      8455 non-null   object\n",
            " 10  listed_in     8455 non-null   object\n",
            " 11  description   8455 non-null   object\n",
            "dtypes: int64(1), object(11)\n",
            "memory usage: 858.7+ KB\n"
          ]
        }
      ],
      "source": [
        "# Observations on the shape of data, data types of all the attributes and statistical summary\n",
        "data.info()"
      ]
    },
    {
      "cell_type": "code",
      "execution_count": null,
      "metadata": {
        "colab": {
          "base_uri": "https://localhost:8080/"
        },
        "id": "RDS5UdBscTTa",
        "outputId": "3341d98a-5fa5-4b62-c8eb-c4a6dbb867ce"
      },
      "outputs": [
        {
          "output_type": "execute_result",
          "data": {
            "text/plain": [
              "pandas.core.frame.DataFrame"
            ]
          },
          "metadata": {},
          "execution_count": 9
        }
      ],
      "source": [
        "type(data)"
      ]
    },
    {
      "cell_type": "code",
      "execution_count": null,
      "metadata": {
        "colab": {
          "base_uri": "https://localhost:8080/"
        },
        "id": "zR0IPYKkca6H",
        "outputId": "7c073302-d05b-4a9a-e3e2-dfd6eb799de6"
      },
      "outputs": [
        {
          "output_type": "execute_result",
          "data": {
            "text/plain": [
              "(8455, 12)"
            ]
          },
          "metadata": {},
          "execution_count": 10
        }
      ],
      "source": [
        "data.shape"
      ]
    },
    {
      "cell_type": "code",
      "execution_count": null,
      "metadata": {
        "colab": {
          "base_uri": "https://localhost:8080/",
          "height": 308
        },
        "id": "ij6ncLomc9aN",
        "outputId": "ad7d77d9-7214-4fab-aa0b-047773a76c92"
      },
      "outputs": [
        {
          "output_type": "execute_result",
          "data": {
            "text/plain": [
              "       show_id   type                 title      director         cast  \\\n",
              "count     8455   8455                  8455          8455         8455   \n",
              "unique    8455      2                  8455          4529         7693   \n",
              "top         s1  Movie  Dick Johnson Is Dead  Marcus Raboy  Jeff Dunham   \n",
              "freq         1   6077                     1           630          166   \n",
              "\n",
              "              country       date_added rating  duration  \\\n",
              "count            8455             8455   8455      8455   \n",
              "unique            743             1752     17       221   \n",
              "top     United States  January 1, 2020  TV-MA  1 Season   \n",
              "freq             2727              118   3063      1555   \n",
              "\n",
              "                           listed_in  \\\n",
              "count                           8455   \n",
              "unique                           508   \n",
              "top     Dramas, International Movies   \n",
              "freq                             362   \n",
              "\n",
              "                                              description  \n",
              "count                                                8455  \n",
              "unique                                               8429  \n",
              "top     Paranormal activity at a lush, abandoned prope...  \n",
              "freq                                                    4  "
            ],
            "text/html": [
              "\n",
              "  <div id=\"df-7ad58662-1cb6-48d6-8a53-4c555b2c8479\">\n",
              "    <div class=\"colab-df-container\">\n",
              "      <div>\n",
              "<style scoped>\n",
              "    .dataframe tbody tr th:only-of-type {\n",
              "        vertical-align: middle;\n",
              "    }\n",
              "\n",
              "    .dataframe tbody tr th {\n",
              "        vertical-align: top;\n",
              "    }\n",
              "\n",
              "    .dataframe thead th {\n",
              "        text-align: right;\n",
              "    }\n",
              "</style>\n",
              "<table border=\"1\" class=\"dataframe\">\n",
              "  <thead>\n",
              "    <tr style=\"text-align: right;\">\n",
              "      <th></th>\n",
              "      <th>show_id</th>\n",
              "      <th>type</th>\n",
              "      <th>title</th>\n",
              "      <th>director</th>\n",
              "      <th>cast</th>\n",
              "      <th>country</th>\n",
              "      <th>date_added</th>\n",
              "      <th>rating</th>\n",
              "      <th>duration</th>\n",
              "      <th>listed_in</th>\n",
              "      <th>description</th>\n",
              "    </tr>\n",
              "  </thead>\n",
              "  <tbody>\n",
              "    <tr>\n",
              "      <th>count</th>\n",
              "      <td>8455</td>\n",
              "      <td>8455</td>\n",
              "      <td>8455</td>\n",
              "      <td>8455</td>\n",
              "      <td>8455</td>\n",
              "      <td>8455</td>\n",
              "      <td>8455</td>\n",
              "      <td>8455</td>\n",
              "      <td>8455</td>\n",
              "      <td>8455</td>\n",
              "      <td>8455</td>\n",
              "    </tr>\n",
              "    <tr>\n",
              "      <th>unique</th>\n",
              "      <td>8455</td>\n",
              "      <td>2</td>\n",
              "      <td>8455</td>\n",
              "      <td>4529</td>\n",
              "      <td>7693</td>\n",
              "      <td>743</td>\n",
              "      <td>1752</td>\n",
              "      <td>17</td>\n",
              "      <td>221</td>\n",
              "      <td>508</td>\n",
              "      <td>8429</td>\n",
              "    </tr>\n",
              "    <tr>\n",
              "      <th>top</th>\n",
              "      <td>s1</td>\n",
              "      <td>Movie</td>\n",
              "      <td>Dick Johnson Is Dead</td>\n",
              "      <td>Marcus Raboy</td>\n",
              "      <td>Jeff Dunham</td>\n",
              "      <td>United States</td>\n",
              "      <td>January 1, 2020</td>\n",
              "      <td>TV-MA</td>\n",
              "      <td>1 Season</td>\n",
              "      <td>Dramas, International Movies</td>\n",
              "      <td>Paranormal activity at a lush, abandoned prope...</td>\n",
              "    </tr>\n",
              "    <tr>\n",
              "      <th>freq</th>\n",
              "      <td>1</td>\n",
              "      <td>6077</td>\n",
              "      <td>1</td>\n",
              "      <td>630</td>\n",
              "      <td>166</td>\n",
              "      <td>2727</td>\n",
              "      <td>118</td>\n",
              "      <td>3063</td>\n",
              "      <td>1555</td>\n",
              "      <td>362</td>\n",
              "      <td>4</td>\n",
              "    </tr>\n",
              "  </tbody>\n",
              "</table>\n",
              "</div>\n",
              "      <button class=\"colab-df-convert\" onclick=\"convertToInteractive('df-7ad58662-1cb6-48d6-8a53-4c555b2c8479')\"\n",
              "              title=\"Convert this dataframe to an interactive table.\"\n",
              "              style=\"display:none;\">\n",
              "        \n",
              "  <svg xmlns=\"http://www.w3.org/2000/svg\" height=\"24px\"viewBox=\"0 0 24 24\"\n",
              "       width=\"24px\">\n",
              "    <path d=\"M0 0h24v24H0V0z\" fill=\"none\"/>\n",
              "    <path d=\"M18.56 5.44l.94 2.06.94-2.06 2.06-.94-2.06-.94-.94-2.06-.94 2.06-2.06.94zm-11 1L8.5 8.5l.94-2.06 2.06-.94-2.06-.94L8.5 2.5l-.94 2.06-2.06.94zm10 10l.94 2.06.94-2.06 2.06-.94-2.06-.94-.94-2.06-.94 2.06-2.06.94z\"/><path d=\"M17.41 7.96l-1.37-1.37c-.4-.4-.92-.59-1.43-.59-.52 0-1.04.2-1.43.59L10.3 9.45l-7.72 7.72c-.78.78-.78 2.05 0 2.83L4 21.41c.39.39.9.59 1.41.59.51 0 1.02-.2 1.41-.59l7.78-7.78 2.81-2.81c.8-.78.8-2.07 0-2.86zM5.41 20L4 18.59l7.72-7.72 1.47 1.35L5.41 20z\"/>\n",
              "  </svg>\n",
              "      </button>\n",
              "      \n",
              "  <style>\n",
              "    .colab-df-container {\n",
              "      display:flex;\n",
              "      flex-wrap:wrap;\n",
              "      gap: 12px;\n",
              "    }\n",
              "\n",
              "    .colab-df-convert {\n",
              "      background-color: #E8F0FE;\n",
              "      border: none;\n",
              "      border-radius: 50%;\n",
              "      cursor: pointer;\n",
              "      display: none;\n",
              "      fill: #1967D2;\n",
              "      height: 32px;\n",
              "      padding: 0 0 0 0;\n",
              "      width: 32px;\n",
              "    }\n",
              "\n",
              "    .colab-df-convert:hover {\n",
              "      background-color: #E2EBFA;\n",
              "      box-shadow: 0px 1px 2px rgba(60, 64, 67, 0.3), 0px 1px 3px 1px rgba(60, 64, 67, 0.15);\n",
              "      fill: #174EA6;\n",
              "    }\n",
              "\n",
              "    [theme=dark] .colab-df-convert {\n",
              "      background-color: #3B4455;\n",
              "      fill: #D2E3FC;\n",
              "    }\n",
              "\n",
              "    [theme=dark] .colab-df-convert:hover {\n",
              "      background-color: #434B5C;\n",
              "      box-shadow: 0px 1px 3px 1px rgba(0, 0, 0, 0.15);\n",
              "      filter: drop-shadow(0px 1px 2px rgba(0, 0, 0, 0.3));\n",
              "      fill: #FFFFFF;\n",
              "    }\n",
              "  </style>\n",
              "\n",
              "      <script>\n",
              "        const buttonEl =\n",
              "          document.querySelector('#df-7ad58662-1cb6-48d6-8a53-4c555b2c8479 button.colab-df-convert');\n",
              "        buttonEl.style.display =\n",
              "          google.colab.kernel.accessAllowed ? 'block' : 'none';\n",
              "\n",
              "        async function convertToInteractive(key) {\n",
              "          const element = document.querySelector('#df-7ad58662-1cb6-48d6-8a53-4c555b2c8479');\n",
              "          const dataTable =\n",
              "            await google.colab.kernel.invokeFunction('convertToInteractive',\n",
              "                                                     [key], {});\n",
              "          if (!dataTable) return;\n",
              "\n",
              "          const docLinkHtml = 'Like what you see? Visit the ' +\n",
              "            '<a target=\"_blank\" href=https://colab.research.google.com/notebooks/data_table.ipynb>data table notebook</a>'\n",
              "            + ' to learn more about interactive tables.';\n",
              "          element.innerHTML = '';\n",
              "          dataTable['output_type'] = 'display_data';\n",
              "          await google.colab.output.renderOutput(dataTable, element);\n",
              "          const docLink = document.createElement('div');\n",
              "          docLink.innerHTML = docLinkHtml;\n",
              "          element.appendChild(docLink);\n",
              "        }\n",
              "      </script>\n",
              "    </div>\n",
              "  </div>\n",
              "  "
            ]
          },
          "metadata": {},
          "execution_count": 11
        }
      ],
      "source": [
        "data.describe(include=object)"
      ]
    },
    {
      "cell_type": "code",
      "execution_count": null,
      "metadata": {
        "id": "qC8C_m4yVNtQ"
      },
      "outputs": [],
      "source": [
        "# Data pre-processing which involves unnesting of the data in columns like cast, Director, Country and listed_in\n",
        "data[\"cast\"]=data[\"cast\"].str.split(\",\")\n",
        "data = data.explode(\"cast\")"
      ]
    },
    {
      "cell_type": "code",
      "execution_count": null,
      "metadata": {
        "id": "H64rzKwkVPAF"
      },
      "outputs": [],
      "source": [
        "data[\"director\"]=data[\"director\"].str.split(\",\")\n",
        "data = data.explode(\"director\")"
      ]
    },
    {
      "cell_type": "code",
      "execution_count": null,
      "metadata": {
        "id": "Y6egPH0tWx1i"
      },
      "outputs": [],
      "source": [
        "data[\"country\"]=data[\"country\"].str.split(\",\")\n",
        "data = data.explode(\"country\")"
      ]
    },
    {
      "cell_type": "code",
      "execution_count": null,
      "metadata": {
        "id": "Aqke7dIBXPL8"
      },
      "outputs": [],
      "source": [
        "data[\"listed_in\"]=data[\"listed_in\"].str.split(\",\")\n",
        "data = data.explode(\"listed_in\")"
      ]
    },
    {
      "cell_type": "code",
      "execution_count": null,
      "metadata": {
        "colab": {
          "base_uri": "https://localhost:8080/",
          "height": 1000
        },
        "id": "V8nQ8CLHXbWT",
        "outputId": "4a6318b1-1fbc-40d5-f36a-faae3c2dcdf9"
      },
      "outputs": [
        {
          "output_type": "execute_result",
          "data": {
            "text/plain": [
              "     show_id     type                 title         director  \\\n",
              "0         s1    Movie  Dick Johnson Is Dead  Kirsten Johnson   \n",
              "1         s2  TV Show         Blood & Water        Adze Ugah   \n",
              "1         s2  TV Show         Blood & Water        Adze Ugah   \n",
              "1         s2  TV Show         Blood & Water        Adze Ugah   \n",
              "1         s2  TV Show         Blood & Water        Adze Ugah   \n",
              "...      ...      ...                   ...              ...   \n",
              "8806   s8807    Movie                Zubaan      Mozez Singh   \n",
              "8806   s8807    Movie                Zubaan      Mozez Singh   \n",
              "8806   s8807    Movie                Zubaan      Mozez Singh   \n",
              "8806   s8807    Movie                Zubaan      Mozez Singh   \n",
              "8806   s8807    Movie                Zubaan      Mozez Singh   \n",
              "\n",
              "                        cast        country          date_added  release_year  \\\n",
              "0                Jeff Dunham  United States  September 25, 2021          2020   \n",
              "1                 Ama Qamata   South Africa  September 24, 2021          2021   \n",
              "1                 Ama Qamata   South Africa  September 24, 2021          2021   \n",
              "1                 Ama Qamata   South Africa  September 24, 2021          2021   \n",
              "1                Khosi Ngema   South Africa  September 24, 2021          2021   \n",
              "...                      ...            ...                 ...           ...   \n",
              "8806          Anita Shabdish          India       March 2, 2019          2015   \n",
              "8806          Anita Shabdish          India       March 2, 2019          2015   \n",
              "8806   Chittaranjan Tripathy          India       March 2, 2019          2015   \n",
              "8806   Chittaranjan Tripathy          India       March 2, 2019          2015   \n",
              "8806   Chittaranjan Tripathy          India       March 2, 2019          2015   \n",
              "\n",
              "     rating   duration               listed_in  \\\n",
              "0     PG-13     90 min           Documentaries   \n",
              "1     TV-MA  2 Seasons  International TV Shows   \n",
              "1     TV-MA  2 Seasons               TV Dramas   \n",
              "1     TV-MA  2 Seasons            TV Mysteries   \n",
              "1     TV-MA  2 Seasons  International TV Shows   \n",
              "...     ...        ...                     ...   \n",
              "8806  TV-14    111 min    International Movies   \n",
              "8806  TV-14    111 min        Music & Musicals   \n",
              "8806  TV-14    111 min                  Dramas   \n",
              "8806  TV-14    111 min    International Movies   \n",
              "8806  TV-14    111 min        Music & Musicals   \n",
              "\n",
              "                                            description  \n",
              "0     As her father nears the end of his life, filmm...  \n",
              "1     After crossing paths at a party, a Cape Town t...  \n",
              "1     After crossing paths at a party, a Cape Town t...  \n",
              "1     After crossing paths at a party, a Cape Town t...  \n",
              "1     After crossing paths at a party, a Cape Town t...  \n",
              "...                                                 ...  \n",
              "8806  A scrappy but poor boy worms his way into a ty...  \n",
              "8806  A scrappy but poor boy worms his way into a ty...  \n",
              "8806  A scrappy but poor boy worms his way into a ty...  \n",
              "8806  A scrappy but poor boy worms his way into a ty...  \n",
              "8806  A scrappy but poor boy worms his way into a ty...  \n",
              "\n",
              "[207804 rows x 12 columns]"
            ],
            "text/html": [
              "\n",
              "  <div id=\"df-b0a7ef52-5d24-4828-9151-be22ddf52fea\">\n",
              "    <div class=\"colab-df-container\">\n",
              "      <div>\n",
              "<style scoped>\n",
              "    .dataframe tbody tr th:only-of-type {\n",
              "        vertical-align: middle;\n",
              "    }\n",
              "\n",
              "    .dataframe tbody tr th {\n",
              "        vertical-align: top;\n",
              "    }\n",
              "\n",
              "    .dataframe thead th {\n",
              "        text-align: right;\n",
              "    }\n",
              "</style>\n",
              "<table border=\"1\" class=\"dataframe\">\n",
              "  <thead>\n",
              "    <tr style=\"text-align: right;\">\n",
              "      <th></th>\n",
              "      <th>show_id</th>\n",
              "      <th>type</th>\n",
              "      <th>title</th>\n",
              "      <th>director</th>\n",
              "      <th>cast</th>\n",
              "      <th>country</th>\n",
              "      <th>date_added</th>\n",
              "      <th>release_year</th>\n",
              "      <th>rating</th>\n",
              "      <th>duration</th>\n",
              "      <th>listed_in</th>\n",
              "      <th>description</th>\n",
              "    </tr>\n",
              "  </thead>\n",
              "  <tbody>\n",
              "    <tr>\n",
              "      <th>0</th>\n",
              "      <td>s1</td>\n",
              "      <td>Movie</td>\n",
              "      <td>Dick Johnson Is Dead</td>\n",
              "      <td>Kirsten Johnson</td>\n",
              "      <td>Jeff Dunham</td>\n",
              "      <td>United States</td>\n",
              "      <td>September 25, 2021</td>\n",
              "      <td>2020</td>\n",
              "      <td>PG-13</td>\n",
              "      <td>90 min</td>\n",
              "      <td>Documentaries</td>\n",
              "      <td>As her father nears the end of his life, filmm...</td>\n",
              "    </tr>\n",
              "    <tr>\n",
              "      <th>1</th>\n",
              "      <td>s2</td>\n",
              "      <td>TV Show</td>\n",
              "      <td>Blood &amp; Water</td>\n",
              "      <td>Adze Ugah</td>\n",
              "      <td>Ama Qamata</td>\n",
              "      <td>South Africa</td>\n",
              "      <td>September 24, 2021</td>\n",
              "      <td>2021</td>\n",
              "      <td>TV-MA</td>\n",
              "      <td>2 Seasons</td>\n",
              "      <td>International TV Shows</td>\n",
              "      <td>After crossing paths at a party, a Cape Town t...</td>\n",
              "    </tr>\n",
              "    <tr>\n",
              "      <th>1</th>\n",
              "      <td>s2</td>\n",
              "      <td>TV Show</td>\n",
              "      <td>Blood &amp; Water</td>\n",
              "      <td>Adze Ugah</td>\n",
              "      <td>Ama Qamata</td>\n",
              "      <td>South Africa</td>\n",
              "      <td>September 24, 2021</td>\n",
              "      <td>2021</td>\n",
              "      <td>TV-MA</td>\n",
              "      <td>2 Seasons</td>\n",
              "      <td>TV Dramas</td>\n",
              "      <td>After crossing paths at a party, a Cape Town t...</td>\n",
              "    </tr>\n",
              "    <tr>\n",
              "      <th>1</th>\n",
              "      <td>s2</td>\n",
              "      <td>TV Show</td>\n",
              "      <td>Blood &amp; Water</td>\n",
              "      <td>Adze Ugah</td>\n",
              "      <td>Ama Qamata</td>\n",
              "      <td>South Africa</td>\n",
              "      <td>September 24, 2021</td>\n",
              "      <td>2021</td>\n",
              "      <td>TV-MA</td>\n",
              "      <td>2 Seasons</td>\n",
              "      <td>TV Mysteries</td>\n",
              "      <td>After crossing paths at a party, a Cape Town t...</td>\n",
              "    </tr>\n",
              "    <tr>\n",
              "      <th>1</th>\n",
              "      <td>s2</td>\n",
              "      <td>TV Show</td>\n",
              "      <td>Blood &amp; Water</td>\n",
              "      <td>Adze Ugah</td>\n",
              "      <td>Khosi Ngema</td>\n",
              "      <td>South Africa</td>\n",
              "      <td>September 24, 2021</td>\n",
              "      <td>2021</td>\n",
              "      <td>TV-MA</td>\n",
              "      <td>2 Seasons</td>\n",
              "      <td>International TV Shows</td>\n",
              "      <td>After crossing paths at a party, a Cape Town t...</td>\n",
              "    </tr>\n",
              "    <tr>\n",
              "      <th>...</th>\n",
              "      <td>...</td>\n",
              "      <td>...</td>\n",
              "      <td>...</td>\n",
              "      <td>...</td>\n",
              "      <td>...</td>\n",
              "      <td>...</td>\n",
              "      <td>...</td>\n",
              "      <td>...</td>\n",
              "      <td>...</td>\n",
              "      <td>...</td>\n",
              "      <td>...</td>\n",
              "      <td>...</td>\n",
              "    </tr>\n",
              "    <tr>\n",
              "      <th>8806</th>\n",
              "      <td>s8807</td>\n",
              "      <td>Movie</td>\n",
              "      <td>Zubaan</td>\n",
              "      <td>Mozez Singh</td>\n",
              "      <td>Anita Shabdish</td>\n",
              "      <td>India</td>\n",
              "      <td>March 2, 2019</td>\n",
              "      <td>2015</td>\n",
              "      <td>TV-14</td>\n",
              "      <td>111 min</td>\n",
              "      <td>International Movies</td>\n",
              "      <td>A scrappy but poor boy worms his way into a ty...</td>\n",
              "    </tr>\n",
              "    <tr>\n",
              "      <th>8806</th>\n",
              "      <td>s8807</td>\n",
              "      <td>Movie</td>\n",
              "      <td>Zubaan</td>\n",
              "      <td>Mozez Singh</td>\n",
              "      <td>Anita Shabdish</td>\n",
              "      <td>India</td>\n",
              "      <td>March 2, 2019</td>\n",
              "      <td>2015</td>\n",
              "      <td>TV-14</td>\n",
              "      <td>111 min</td>\n",
              "      <td>Music &amp; Musicals</td>\n",
              "      <td>A scrappy but poor boy worms his way into a ty...</td>\n",
              "    </tr>\n",
              "    <tr>\n",
              "      <th>8806</th>\n",
              "      <td>s8807</td>\n",
              "      <td>Movie</td>\n",
              "      <td>Zubaan</td>\n",
              "      <td>Mozez Singh</td>\n",
              "      <td>Chittaranjan Tripathy</td>\n",
              "      <td>India</td>\n",
              "      <td>March 2, 2019</td>\n",
              "      <td>2015</td>\n",
              "      <td>TV-14</td>\n",
              "      <td>111 min</td>\n",
              "      <td>Dramas</td>\n",
              "      <td>A scrappy but poor boy worms his way into a ty...</td>\n",
              "    </tr>\n",
              "    <tr>\n",
              "      <th>8806</th>\n",
              "      <td>s8807</td>\n",
              "      <td>Movie</td>\n",
              "      <td>Zubaan</td>\n",
              "      <td>Mozez Singh</td>\n",
              "      <td>Chittaranjan Tripathy</td>\n",
              "      <td>India</td>\n",
              "      <td>March 2, 2019</td>\n",
              "      <td>2015</td>\n",
              "      <td>TV-14</td>\n",
              "      <td>111 min</td>\n",
              "      <td>International Movies</td>\n",
              "      <td>A scrappy but poor boy worms his way into a ty...</td>\n",
              "    </tr>\n",
              "    <tr>\n",
              "      <th>8806</th>\n",
              "      <td>s8807</td>\n",
              "      <td>Movie</td>\n",
              "      <td>Zubaan</td>\n",
              "      <td>Mozez Singh</td>\n",
              "      <td>Chittaranjan Tripathy</td>\n",
              "      <td>India</td>\n",
              "      <td>March 2, 2019</td>\n",
              "      <td>2015</td>\n",
              "      <td>TV-14</td>\n",
              "      <td>111 min</td>\n",
              "      <td>Music &amp; Musicals</td>\n",
              "      <td>A scrappy but poor boy worms his way into a ty...</td>\n",
              "    </tr>\n",
              "  </tbody>\n",
              "</table>\n",
              "<p>207804 rows × 12 columns</p>\n",
              "</div>\n",
              "      <button class=\"colab-df-convert\" onclick=\"convertToInteractive('df-b0a7ef52-5d24-4828-9151-be22ddf52fea')\"\n",
              "              title=\"Convert this dataframe to an interactive table.\"\n",
              "              style=\"display:none;\">\n",
              "        \n",
              "  <svg xmlns=\"http://www.w3.org/2000/svg\" height=\"24px\"viewBox=\"0 0 24 24\"\n",
              "       width=\"24px\">\n",
              "    <path d=\"M0 0h24v24H0V0z\" fill=\"none\"/>\n",
              "    <path d=\"M18.56 5.44l.94 2.06.94-2.06 2.06-.94-2.06-.94-.94-2.06-.94 2.06-2.06.94zm-11 1L8.5 8.5l.94-2.06 2.06-.94-2.06-.94L8.5 2.5l-.94 2.06-2.06.94zm10 10l.94 2.06.94-2.06 2.06-.94-2.06-.94-.94-2.06-.94 2.06-2.06.94z\"/><path d=\"M17.41 7.96l-1.37-1.37c-.4-.4-.92-.59-1.43-.59-.52 0-1.04.2-1.43.59L10.3 9.45l-7.72 7.72c-.78.78-.78 2.05 0 2.83L4 21.41c.39.39.9.59 1.41.59.51 0 1.02-.2 1.41-.59l7.78-7.78 2.81-2.81c.8-.78.8-2.07 0-2.86zM5.41 20L4 18.59l7.72-7.72 1.47 1.35L5.41 20z\"/>\n",
              "  </svg>\n",
              "      </button>\n",
              "      \n",
              "  <style>\n",
              "    .colab-df-container {\n",
              "      display:flex;\n",
              "      flex-wrap:wrap;\n",
              "      gap: 12px;\n",
              "    }\n",
              "\n",
              "    .colab-df-convert {\n",
              "      background-color: #E8F0FE;\n",
              "      border: none;\n",
              "      border-radius: 50%;\n",
              "      cursor: pointer;\n",
              "      display: none;\n",
              "      fill: #1967D2;\n",
              "      height: 32px;\n",
              "      padding: 0 0 0 0;\n",
              "      width: 32px;\n",
              "    }\n",
              "\n",
              "    .colab-df-convert:hover {\n",
              "      background-color: #E2EBFA;\n",
              "      box-shadow: 0px 1px 2px rgba(60, 64, 67, 0.3), 0px 1px 3px 1px rgba(60, 64, 67, 0.15);\n",
              "      fill: #174EA6;\n",
              "    }\n",
              "\n",
              "    [theme=dark] .colab-df-convert {\n",
              "      background-color: #3B4455;\n",
              "      fill: #D2E3FC;\n",
              "    }\n",
              "\n",
              "    [theme=dark] .colab-df-convert:hover {\n",
              "      background-color: #434B5C;\n",
              "      box-shadow: 0px 1px 3px 1px rgba(0, 0, 0, 0.15);\n",
              "      filter: drop-shadow(0px 1px 2px rgba(0, 0, 0, 0.3));\n",
              "      fill: #FFFFFF;\n",
              "    }\n",
              "  </style>\n",
              "\n",
              "      <script>\n",
              "        const buttonEl =\n",
              "          document.querySelector('#df-b0a7ef52-5d24-4828-9151-be22ddf52fea button.colab-df-convert');\n",
              "        buttonEl.style.display =\n",
              "          google.colab.kernel.accessAllowed ? 'block' : 'none';\n",
              "\n",
              "        async function convertToInteractive(key) {\n",
              "          const element = document.querySelector('#df-b0a7ef52-5d24-4828-9151-be22ddf52fea');\n",
              "          const dataTable =\n",
              "            await google.colab.kernel.invokeFunction('convertToInteractive',\n",
              "                                                     [key], {});\n",
              "          if (!dataTable) return;\n",
              "\n",
              "          const docLinkHtml = 'Like what you see? Visit the ' +\n",
              "            '<a target=\"_blank\" href=https://colab.research.google.com/notebooks/data_table.ipynb>data table notebook</a>'\n",
              "            + ' to learn more about interactive tables.';\n",
              "          element.innerHTML = '';\n",
              "          dataTable['output_type'] = 'display_data';\n",
              "          await google.colab.output.renderOutput(dataTable, element);\n",
              "          const docLink = document.createElement('div');\n",
              "          docLink.innerHTML = docLinkHtml;\n",
              "          element.appendChild(docLink);\n",
              "        }\n",
              "      </script>\n",
              "    </div>\n",
              "  </div>\n",
              "  "
            ]
          },
          "metadata": {},
          "execution_count": 16
        }
      ],
      "source": [
        "data"
      ]
    },
    {
      "cell_type": "code",
      "execution_count": null,
      "metadata": {
        "colab": {
          "base_uri": "https://localhost:8080/",
          "height": 1000
        },
        "id": "QCB_8dbntanM",
        "outputId": "ac514ef6-e9c5-43ac-a2ec-da580567bbb7"
      },
      "outputs": [
        {
          "output_type": "execute_result",
          "data": {
            "text/plain": [
              "     show_id     type                 title         director  \\\n",
              "0         s1    Movie  Dick Johnson Is Dead  Kirsten Johnson   \n",
              "1         s2  TV Show         Blood & Water        Adze Ugah   \n",
              "1         s2  TV Show         Blood & Water        Adze Ugah   \n",
              "1         s2  TV Show         Blood & Water        Adze Ugah   \n",
              "1         s2  TV Show         Blood & Water        Adze Ugah   \n",
              "...      ...      ...                   ...              ...   \n",
              "8806   s8807    Movie                Zubaan      Mozez Singh   \n",
              "8806   s8807    Movie                Zubaan      Mozez Singh   \n",
              "8806   s8807    Movie                Zubaan      Mozez Singh   \n",
              "8806   s8807    Movie                Zubaan      Mozez Singh   \n",
              "8806   s8807    Movie                Zubaan      Mozez Singh   \n",
              "\n",
              "                        cast        country          date_added  release_year  \\\n",
              "0                Jeff Dunham  United States  September 25, 2021          2020   \n",
              "1                 Ama Qamata   South Africa  September 24, 2021          2021   \n",
              "1                 Ama Qamata   South Africa  September 24, 2021          2021   \n",
              "1                 Ama Qamata   South Africa  September 24, 2021          2021   \n",
              "1                Khosi Ngema   South Africa  September 24, 2021          2021   \n",
              "...                      ...            ...                 ...           ...   \n",
              "8806          Anita Shabdish          India       March 2, 2019          2015   \n",
              "8806          Anita Shabdish          India       March 2, 2019          2015   \n",
              "8806   Chittaranjan Tripathy          India       March 2, 2019          2015   \n",
              "8806   Chittaranjan Tripathy          India       March 2, 2019          2015   \n",
              "8806   Chittaranjan Tripathy          India       March 2, 2019          2015   \n",
              "\n",
              "     rating  duration               listed_in  \\\n",
              "0     PG-13        90           Documentaries   \n",
              "1     TV-MA         2  International TV Shows   \n",
              "1     TV-MA         2               TV Dramas   \n",
              "1     TV-MA         2            TV Mysteries   \n",
              "1     TV-MA         2  International TV Shows   \n",
              "...     ...       ...                     ...   \n",
              "8806  TV-14       111    International Movies   \n",
              "8806  TV-14       111        Music & Musicals   \n",
              "8806  TV-14       111                  Dramas   \n",
              "8806  TV-14       111    International Movies   \n",
              "8806  TV-14       111        Music & Musicals   \n",
              "\n",
              "                                            description  \n",
              "0     As her father nears the end of his life, filmm...  \n",
              "1     After crossing paths at a party, a Cape Town t...  \n",
              "1     After crossing paths at a party, a Cape Town t...  \n",
              "1     After crossing paths at a party, a Cape Town t...  \n",
              "1     After crossing paths at a party, a Cape Town t...  \n",
              "...                                                 ...  \n",
              "8806  A scrappy but poor boy worms his way into a ty...  \n",
              "8806  A scrappy but poor boy worms his way into a ty...  \n",
              "8806  A scrappy but poor boy worms his way into a ty...  \n",
              "8806  A scrappy but poor boy worms his way into a ty...  \n",
              "8806  A scrappy but poor boy worms his way into a ty...  \n",
              "\n",
              "[207804 rows x 12 columns]"
            ],
            "text/html": [
              "\n",
              "  <div id=\"df-5c58bd38-d095-4ceb-a026-8c9d6aa0dedb\">\n",
              "    <div class=\"colab-df-container\">\n",
              "      <div>\n",
              "<style scoped>\n",
              "    .dataframe tbody tr th:only-of-type {\n",
              "        vertical-align: middle;\n",
              "    }\n",
              "\n",
              "    .dataframe tbody tr th {\n",
              "        vertical-align: top;\n",
              "    }\n",
              "\n",
              "    .dataframe thead th {\n",
              "        text-align: right;\n",
              "    }\n",
              "</style>\n",
              "<table border=\"1\" class=\"dataframe\">\n",
              "  <thead>\n",
              "    <tr style=\"text-align: right;\">\n",
              "      <th></th>\n",
              "      <th>show_id</th>\n",
              "      <th>type</th>\n",
              "      <th>title</th>\n",
              "      <th>director</th>\n",
              "      <th>cast</th>\n",
              "      <th>country</th>\n",
              "      <th>date_added</th>\n",
              "      <th>release_year</th>\n",
              "      <th>rating</th>\n",
              "      <th>duration</th>\n",
              "      <th>listed_in</th>\n",
              "      <th>description</th>\n",
              "    </tr>\n",
              "  </thead>\n",
              "  <tbody>\n",
              "    <tr>\n",
              "      <th>0</th>\n",
              "      <td>s1</td>\n",
              "      <td>Movie</td>\n",
              "      <td>Dick Johnson Is Dead</td>\n",
              "      <td>Kirsten Johnson</td>\n",
              "      <td>Jeff Dunham</td>\n",
              "      <td>United States</td>\n",
              "      <td>September 25, 2021</td>\n",
              "      <td>2020</td>\n",
              "      <td>PG-13</td>\n",
              "      <td>90</td>\n",
              "      <td>Documentaries</td>\n",
              "      <td>As her father nears the end of his life, filmm...</td>\n",
              "    </tr>\n",
              "    <tr>\n",
              "      <th>1</th>\n",
              "      <td>s2</td>\n",
              "      <td>TV Show</td>\n",
              "      <td>Blood &amp; Water</td>\n",
              "      <td>Adze Ugah</td>\n",
              "      <td>Ama Qamata</td>\n",
              "      <td>South Africa</td>\n",
              "      <td>September 24, 2021</td>\n",
              "      <td>2021</td>\n",
              "      <td>TV-MA</td>\n",
              "      <td>2</td>\n",
              "      <td>International TV Shows</td>\n",
              "      <td>After crossing paths at a party, a Cape Town t...</td>\n",
              "    </tr>\n",
              "    <tr>\n",
              "      <th>1</th>\n",
              "      <td>s2</td>\n",
              "      <td>TV Show</td>\n",
              "      <td>Blood &amp; Water</td>\n",
              "      <td>Adze Ugah</td>\n",
              "      <td>Ama Qamata</td>\n",
              "      <td>South Africa</td>\n",
              "      <td>September 24, 2021</td>\n",
              "      <td>2021</td>\n",
              "      <td>TV-MA</td>\n",
              "      <td>2</td>\n",
              "      <td>TV Dramas</td>\n",
              "      <td>After crossing paths at a party, a Cape Town t...</td>\n",
              "    </tr>\n",
              "    <tr>\n",
              "      <th>1</th>\n",
              "      <td>s2</td>\n",
              "      <td>TV Show</td>\n",
              "      <td>Blood &amp; Water</td>\n",
              "      <td>Adze Ugah</td>\n",
              "      <td>Ama Qamata</td>\n",
              "      <td>South Africa</td>\n",
              "      <td>September 24, 2021</td>\n",
              "      <td>2021</td>\n",
              "      <td>TV-MA</td>\n",
              "      <td>2</td>\n",
              "      <td>TV Mysteries</td>\n",
              "      <td>After crossing paths at a party, a Cape Town t...</td>\n",
              "    </tr>\n",
              "    <tr>\n",
              "      <th>1</th>\n",
              "      <td>s2</td>\n",
              "      <td>TV Show</td>\n",
              "      <td>Blood &amp; Water</td>\n",
              "      <td>Adze Ugah</td>\n",
              "      <td>Khosi Ngema</td>\n",
              "      <td>South Africa</td>\n",
              "      <td>September 24, 2021</td>\n",
              "      <td>2021</td>\n",
              "      <td>TV-MA</td>\n",
              "      <td>2</td>\n",
              "      <td>International TV Shows</td>\n",
              "      <td>After crossing paths at a party, a Cape Town t...</td>\n",
              "    </tr>\n",
              "    <tr>\n",
              "      <th>...</th>\n",
              "      <td>...</td>\n",
              "      <td>...</td>\n",
              "      <td>...</td>\n",
              "      <td>...</td>\n",
              "      <td>...</td>\n",
              "      <td>...</td>\n",
              "      <td>...</td>\n",
              "      <td>...</td>\n",
              "      <td>...</td>\n",
              "      <td>...</td>\n",
              "      <td>...</td>\n",
              "      <td>...</td>\n",
              "    </tr>\n",
              "    <tr>\n",
              "      <th>8806</th>\n",
              "      <td>s8807</td>\n",
              "      <td>Movie</td>\n",
              "      <td>Zubaan</td>\n",
              "      <td>Mozez Singh</td>\n",
              "      <td>Anita Shabdish</td>\n",
              "      <td>India</td>\n",
              "      <td>March 2, 2019</td>\n",
              "      <td>2015</td>\n",
              "      <td>TV-14</td>\n",
              "      <td>111</td>\n",
              "      <td>International Movies</td>\n",
              "      <td>A scrappy but poor boy worms his way into a ty...</td>\n",
              "    </tr>\n",
              "    <tr>\n",
              "      <th>8806</th>\n",
              "      <td>s8807</td>\n",
              "      <td>Movie</td>\n",
              "      <td>Zubaan</td>\n",
              "      <td>Mozez Singh</td>\n",
              "      <td>Anita Shabdish</td>\n",
              "      <td>India</td>\n",
              "      <td>March 2, 2019</td>\n",
              "      <td>2015</td>\n",
              "      <td>TV-14</td>\n",
              "      <td>111</td>\n",
              "      <td>Music &amp; Musicals</td>\n",
              "      <td>A scrappy but poor boy worms his way into a ty...</td>\n",
              "    </tr>\n",
              "    <tr>\n",
              "      <th>8806</th>\n",
              "      <td>s8807</td>\n",
              "      <td>Movie</td>\n",
              "      <td>Zubaan</td>\n",
              "      <td>Mozez Singh</td>\n",
              "      <td>Chittaranjan Tripathy</td>\n",
              "      <td>India</td>\n",
              "      <td>March 2, 2019</td>\n",
              "      <td>2015</td>\n",
              "      <td>TV-14</td>\n",
              "      <td>111</td>\n",
              "      <td>Dramas</td>\n",
              "      <td>A scrappy but poor boy worms his way into a ty...</td>\n",
              "    </tr>\n",
              "    <tr>\n",
              "      <th>8806</th>\n",
              "      <td>s8807</td>\n",
              "      <td>Movie</td>\n",
              "      <td>Zubaan</td>\n",
              "      <td>Mozez Singh</td>\n",
              "      <td>Chittaranjan Tripathy</td>\n",
              "      <td>India</td>\n",
              "      <td>March 2, 2019</td>\n",
              "      <td>2015</td>\n",
              "      <td>TV-14</td>\n",
              "      <td>111</td>\n",
              "      <td>International Movies</td>\n",
              "      <td>A scrappy but poor boy worms his way into a ty...</td>\n",
              "    </tr>\n",
              "    <tr>\n",
              "      <th>8806</th>\n",
              "      <td>s8807</td>\n",
              "      <td>Movie</td>\n",
              "      <td>Zubaan</td>\n",
              "      <td>Mozez Singh</td>\n",
              "      <td>Chittaranjan Tripathy</td>\n",
              "      <td>India</td>\n",
              "      <td>March 2, 2019</td>\n",
              "      <td>2015</td>\n",
              "      <td>TV-14</td>\n",
              "      <td>111</td>\n",
              "      <td>Music &amp; Musicals</td>\n",
              "      <td>A scrappy but poor boy worms his way into a ty...</td>\n",
              "    </tr>\n",
              "  </tbody>\n",
              "</table>\n",
              "<p>207804 rows × 12 columns</p>\n",
              "</div>\n",
              "      <button class=\"colab-df-convert\" onclick=\"convertToInteractive('df-5c58bd38-d095-4ceb-a026-8c9d6aa0dedb')\"\n",
              "              title=\"Convert this dataframe to an interactive table.\"\n",
              "              style=\"display:none;\">\n",
              "        \n",
              "  <svg xmlns=\"http://www.w3.org/2000/svg\" height=\"24px\"viewBox=\"0 0 24 24\"\n",
              "       width=\"24px\">\n",
              "    <path d=\"M0 0h24v24H0V0z\" fill=\"none\"/>\n",
              "    <path d=\"M18.56 5.44l.94 2.06.94-2.06 2.06-.94-2.06-.94-.94-2.06-.94 2.06-2.06.94zm-11 1L8.5 8.5l.94-2.06 2.06-.94-2.06-.94L8.5 2.5l-.94 2.06-2.06.94zm10 10l.94 2.06.94-2.06 2.06-.94-2.06-.94-.94-2.06-.94 2.06-2.06.94z\"/><path d=\"M17.41 7.96l-1.37-1.37c-.4-.4-.92-.59-1.43-.59-.52 0-1.04.2-1.43.59L10.3 9.45l-7.72 7.72c-.78.78-.78 2.05 0 2.83L4 21.41c.39.39.9.59 1.41.59.51 0 1.02-.2 1.41-.59l7.78-7.78 2.81-2.81c.8-.78.8-2.07 0-2.86zM5.41 20L4 18.59l7.72-7.72 1.47 1.35L5.41 20z\"/>\n",
              "  </svg>\n",
              "      </button>\n",
              "      \n",
              "  <style>\n",
              "    .colab-df-container {\n",
              "      display:flex;\n",
              "      flex-wrap:wrap;\n",
              "      gap: 12px;\n",
              "    }\n",
              "\n",
              "    .colab-df-convert {\n",
              "      background-color: #E8F0FE;\n",
              "      border: none;\n",
              "      border-radius: 50%;\n",
              "      cursor: pointer;\n",
              "      display: none;\n",
              "      fill: #1967D2;\n",
              "      height: 32px;\n",
              "      padding: 0 0 0 0;\n",
              "      width: 32px;\n",
              "    }\n",
              "\n",
              "    .colab-df-convert:hover {\n",
              "      background-color: #E2EBFA;\n",
              "      box-shadow: 0px 1px 2px rgba(60, 64, 67, 0.3), 0px 1px 3px 1px rgba(60, 64, 67, 0.15);\n",
              "      fill: #174EA6;\n",
              "    }\n",
              "\n",
              "    [theme=dark] .colab-df-convert {\n",
              "      background-color: #3B4455;\n",
              "      fill: #D2E3FC;\n",
              "    }\n",
              "\n",
              "    [theme=dark] .colab-df-convert:hover {\n",
              "      background-color: #434B5C;\n",
              "      box-shadow: 0px 1px 3px 1px rgba(0, 0, 0, 0.15);\n",
              "      filter: drop-shadow(0px 1px 2px rgba(0, 0, 0, 0.3));\n",
              "      fill: #FFFFFF;\n",
              "    }\n",
              "  </style>\n",
              "\n",
              "      <script>\n",
              "        const buttonEl =\n",
              "          document.querySelector('#df-5c58bd38-d095-4ceb-a026-8c9d6aa0dedb button.colab-df-convert');\n",
              "        buttonEl.style.display =\n",
              "          google.colab.kernel.accessAllowed ? 'block' : 'none';\n",
              "\n",
              "        async function convertToInteractive(key) {\n",
              "          const element = document.querySelector('#df-5c58bd38-d095-4ceb-a026-8c9d6aa0dedb');\n",
              "          const dataTable =\n",
              "            await google.colab.kernel.invokeFunction('convertToInteractive',\n",
              "                                                     [key], {});\n",
              "          if (!dataTable) return;\n",
              "\n",
              "          const docLinkHtml = 'Like what you see? Visit the ' +\n",
              "            '<a target=\"_blank\" href=https://colab.research.google.com/notebooks/data_table.ipynb>data table notebook</a>'\n",
              "            + ' to learn more about interactive tables.';\n",
              "          element.innerHTML = '';\n",
              "          dataTable['output_type'] = 'display_data';\n",
              "          await google.colab.output.renderOutput(dataTable, element);\n",
              "          const docLink = document.createElement('div');\n",
              "          docLink.innerHTML = docLinkHtml;\n",
              "          element.appendChild(docLink);\n",
              "        }\n",
              "      </script>\n",
              "    </div>\n",
              "  </div>\n",
              "  "
            ]
          },
          "metadata": {},
          "execution_count": 17
        }
      ],
      "source": [
        "data[\"duration\"] = data[\"duration\"].str.split(\" \").str.get(0)\n",
        "data[\"duration\"].fillna(0,inplace = True)\n",
        "data[\"duration\"]=data[\"duration\"].astype(\"int\")\n",
        "data\n"
      ]
    },
    {
      "cell_type": "markdown",
      "metadata": {
        "id": "1CmiRX1HyfUx"
      },
      "source": [
        "** Non-Graphical Analysis: Value counts and unique attributes **\n"
      ]
    },
    {
      "cell_type": "code",
      "execution_count": null,
      "metadata": {
        "colab": {
          "base_uri": "https://localhost:8080/"
        },
        "id": "YoBKaGwyATvF",
        "outputId": "7036776c-2678-4208-c288-56331a0958ba"
      },
      "outputs": [
        {
          "output_type": "execute_result",
          "data": {
            "text/plain": [
              "198"
            ]
          },
          "metadata": {},
          "execution_count": 18
        }
      ],
      "source": [
        "# the number of countries netflix is operating\n",
        "data[\"country\"].nunique()"
      ]
    },
    {
      "cell_type": "code",
      "execution_count": null,
      "metadata": {
        "colab": {
          "base_uri": "https://localhost:8080/"
        },
        "id": "pCJS4Fq-3SzK",
        "outputId": "13e6b1b8-fda9-4fab-b2fd-abafc2db1c49"
      },
      "outputs": [
        {
          "output_type": "execute_result",
          "data": {
            "text/plain": [
              "cast\n",
              "Jeff Dunham            167\n",
              "unknown                 97\n",
              "David Attenborough      50\n",
              " Anupam Kher            39\n",
              " Rupa Bhimani           33\n",
              "                      ... \n",
              " Juana del Río           1\n",
              " Juana Viale             1\n",
              " Juana Collignon         1\n",
              " Juan Ángel Esparza      1\n",
              "Ṣọpẹ́ Dìrísù             1\n",
              "Name: title, Length: 39297, dtype: int64"
            ]
          },
          "metadata": {},
          "execution_count": 19
        }
      ],
      "source": [
        "# Most popular cast\n",
        "famous_actor =data.groupby(\"cast\")[\"title\"].nunique()\n",
        "famous_actor.sort_values(ascending = False)"
      ]
    },
    {
      "cell_type": "code",
      "execution_count": null,
      "metadata": {
        "colab": {
          "base_uri": "https://localhost:8080/"
        },
        "id": "U5DtNEgN40P6",
        "outputId": "47e73d40-2887-46cc-cce9-33b9b33eb4f9"
      },
      "outputs": [
        {
          "output_type": "execute_result",
          "data": {
            "text/plain": [
              "director\n",
              "Marcus Raboy           630\n",
              "unknown                394\n",
              "Alastair Fothergill    184\n",
              "Toshiya Shinohara      164\n",
              "Park Hoon-jung         150\n",
              "                      ... \n",
              "James Hawes              1\n",
              "James Ivory              1\n",
              "James L. Brooks          1\n",
              "James Lee                1\n",
              "Joaquín Mazón            1\n",
              "Name: title, Length: 5121, dtype: int64"
            ]
          },
          "metadata": {},
          "execution_count": 20
        }
      ],
      "source": [
        "# Most popular director\n",
        "famous_director =data.groupby(\"director\")[\"title\"].nunique()\n",
        "famous_director.sort_values(ascending = False)"
      ]
    },
    {
      "cell_type": "code",
      "execution_count": null,
      "metadata": {
        "colab": {
          "base_uri": "https://localhost:8080/"
        },
        "id": "uSs0MFTu7PO6",
        "outputId": "4f707a0a-9a92-4766-a31f-0cbdad5bea44"
      },
      "outputs": [
        {
          "output_type": "execute_result",
          "data": {
            "text/plain": [
              "country\n",
              "United States     3118\n",
              "India             1053\n",
              "United Kingdom     598\n",
              "unknown            549\n",
              " United States     477\n",
              "                  ... \n",
              "Namibia              1\n",
              " Ethiopia            1\n",
              " Ukraine             1\n",
              " Ecuador             1\n",
              " Sudan               1\n",
              "Name: title, Length: 198, dtype: int64"
            ]
          },
          "metadata": {},
          "execution_count": 21
        }
      ],
      "source": [
        "# countries having highest content\n",
        "famous_country =data.groupby(\"country\")[\"title\"].nunique()\n",
        "famous_country.sort_values(ascending = False)"
      ]
    },
    {
      "cell_type": "code",
      "execution_count": null,
      "metadata": {
        "colab": {
          "base_uri": "https://localhost:8080/"
        },
        "id": "P82HsCSJ8H4I",
        "outputId": "53d24c0e-3013-4a9a-f3b4-feae2e2b0251"
      },
      "outputs": [
        {
          "output_type": "execute_result",
          "data": {
            "text/plain": [
              "director           cast             \n",
              "Rajiv Chilaka       Julie Tejwani       22\n",
              "                    Rajesh Kava         22\n",
              "Toshiya Shinohara   Takahiro Sakurai    21\n",
              "Rajiv Chilaka       Jigna Bhardwaj      21\n",
              "                    Rupa Bhimani        21\n",
              "                                        ..\n",
              "Evan Goldberg       Reese Alexander      1\n",
              "                    Seth Rogen           1\n",
              "                    Timothy Simons       1\n",
              "                   James Franco          1\n",
              "Şenol Sönmez       Murat Boz             1\n",
              "Name: title, Length: 66593, dtype: int64"
            ]
          },
          "metadata": {},
          "execution_count": 22
        }
      ],
      "source": [
        "# most popular actor- director pair\n",
        "actor_director =data.groupby([\"director\",\"cast\"])[\"title\"].nunique()\n",
        "actor_director.sort_values(ascending = False)"
      ]
    },
    {
      "cell_type": "code",
      "execution_count": null,
      "metadata": {
        "colab": {
          "base_uri": "https://localhost:8080/"
        },
        "id": "sD2-7OK08wf4",
        "outputId": "09d8fb38-b5be-4b5e-adc5-0243c1709aa4"
      },
      "outputs": [
        {
          "output_type": "execute_result",
          "data": {
            "text/plain": [
              "country         cast               \n",
              "United States   Jeff Dunham            167\n",
              "unknown         unknown                 39\n",
              "United Kingdom  David Attenborough      39\n",
              "India            Anupam Kher            36\n",
              "Japan            Takahiro Sakurai       28\n",
              "                                      ... \n",
              "Egypt           Nour El-Sherif           1\n",
              "                Omar Sharif              1\n",
              "                Rady Gamal               1\n",
              "                Riham Abdel Ghafour      1\n",
              "                 Ahmad Abu Sal'oum       1\n",
              "Name: title, Length: 59922, dtype: int64"
            ]
          },
          "metadata": {},
          "execution_count": 23
        }
      ],
      "source": [
        "# most polular actor in every country\n",
        "national_star =data.groupby([\"country\",\"cast\"])[\"title\"].nunique()\n",
        "national_star.sort_values(ascending = False)"
      ]
    },
    {
      "cell_type": "code",
      "execution_count": null,
      "metadata": {
        "colab": {
          "base_uri": "https://localhost:8080/"
        },
        "id": "Pv4rOU3iTbx8",
        "outputId": "a39ec294-145c-4838-b099-afa68006d0f5"
      },
      "outputs": [
        {
          "output_type": "execute_result",
          "data": {
            "text/plain": [
              "listed_in\n",
              " International Movies        2603\n",
              "Dramas                       1593\n",
              "Comedies                     1206\n",
              "Action & Adventure            856\n",
              " Dramas                       827\n",
              "                             ... \n",
              "Romantic Movies                 3\n",
              "Spanish-Language TV Shows       2\n",
              "LGBTQ Movies                    1\n",
              "Sports Movies                   1\n",
              "TV Sci-Fi & Fantasy             1\n",
              "Name: title, Length: 73, dtype: int64"
            ]
          },
          "metadata": {},
          "execution_count": 24
        }
      ],
      "source": [
        "# the most popular genre\n",
        "famous_genre =data.groupby(\"listed_in\")[\"title\"].nunique()\n",
        "famous_genre.sort_values(ascending = False)"
      ]
    },
    {
      "cell_type": "code",
      "execution_count": null,
      "metadata": {
        "colab": {
          "base_uri": "https://localhost:8080/"
        },
        "id": "6Q-qGaDzTVIF",
        "outputId": "e36db893-9808-4b75-a10f-75fcddefde20"
      },
      "outputs": [
        {
          "output_type": "execute_result",
          "data": {
            "text/plain": [
              "type\n",
              "Movie      71.87463\n",
              "TV Show    28.12537\n",
              "Name: title, dtype: float64"
            ]
          },
          "metadata": {},
          "execution_count": 25
        }
      ],
      "source": [
        "# category propotion\n",
        "category = data.groupby(\"type\")[\"title\"].nunique()\n",
        "total = category.sum()\n",
        "category_prop = (category/total)*100\n",
        "category_prop"
      ]
    },
    {
      "cell_type": "code",
      "execution_count": null,
      "metadata": {
        "colab": {
          "base_uri": "https://localhost:8080/"
        },
        "id": "b4mFxUCUEctN",
        "outputId": "41033239-297d-40eb-fd30-ab8f5dfa3254"
      },
      "outputs": [
        {
          "output_type": "execute_result",
          "data": {
            "text/plain": [
              "type\n",
              "Movie      103.0\n",
              "TV Show      1.0\n",
              "Name: duration, dtype: float64"
            ]
          },
          "metadata": {},
          "execution_count": 26
        }
      ],
      "source": [
        "# average duration\n",
        "avg_duration = data.groupby(\"type\")[\"duration\"].median()\n",
        "avg_duration"
      ]
    },
    {
      "cell_type": "markdown",
      "metadata": {
        "id": "SdHSrBDbEdja"
      },
      "source": [
        "graphical analysis\n"
      ]
    },
    {
      "cell_type": "code",
      "execution_count": null,
      "metadata": {
        "id": "GaB4qIAij5V9"
      },
      "outputs": [],
      "source": [
        "import matplotlib.pyplot as plt\n",
        "import seaborn as sns\n"
      ]
    },
    {
      "cell_type": "code",
      "execution_count": null,
      "metadata": {
        "colab": {
          "base_uri": "https://localhost:8080/",
          "height": 411
        },
        "id": "b9w96jmGodZF",
        "outputId": "eabf17b7-5c03-4f62-fff8-2b01336f15bd"
      },
      "outputs": [
        {
          "output_type": "display_data",
          "data": {
            "text/plain": [
              "<Figure size 432x288 with 1 Axes>"
            ],
            "image/png": "[encoded data removed]"
          },
          "metadata": {
            "needs_background": "light"
          }
        }
      ],
      "source": [
        "# Top 10 content type availabile in netflix\n",
        "content_availability = data.groupby(\"listed_in\")[\"title\"].nunique()\n",
        "content_availability = content_availability.nlargest(20)\n",
        "sns.barplot(x= content_availability.index,y= content_availability.values,color= \"yellow\")\n",
        "plt.xticks(rotation= 90)\n",
        "plt.xlabel(\"genres\")\n",
        "plt.ylabel(\"count\")\n",
        "plt.title(\"popular genres\")\n",
        "plt.show()"
      ]
    },
    {
      "cell_type": "code",
      "execution_count": null,
      "metadata": {
        "id": "NNHtDKorBG5l"
      },
      "outputs": [],
      "source": [
        "df = pd.read_csv(\"netflix.csv\")\n"
      ]
    },
    {
      "cell_type": "code",
      "execution_count": null,
      "metadata": {
        "colab": {
          "base_uri": "https://localhost:8080/",
          "height": 461
        },
        "id": "Oo6zO6eC-sXl",
        "outputId": "b07e579d-9df5-469b-9a30-5ee4cf2b74ca"
      },
      "outputs": [
        {
          "output_type": "stream",
          "name": "stderr",
          "text": [
            "/usr/local/lib/python3.8/dist-packages/seaborn/distributions.py:2619: FutureWarning: `distplot` is a deprecated function and will be removed in a future version. Please adapt your code to use either `displot` (a figure-level function with similar flexibility) or `histplot` (an axes-level function for histograms).\n",
            "  warnings.warn(msg, FutureWarning)\n"
          ]
        },
        {
          "output_type": "display_data",
          "data": {
            "text/plain": [
              "<Figure size 720x576 with 1 Axes>"
            ],
            "image/png": "[encoded data removed]"
          },
          "metadata": {
            "needs_background": "light"
          }
        }
      ],
      "source": [
        "# number of movies/Tv shows released per year\n",
        "plt.figure(figsize=(10,8))\n",
        "sns.distplot(df[\"release_year\"],color='red')\n",
        "plt.title(\"release pattern\")\n",
        "plt.show()"
      ]
    },
    {
      "cell_type": "code",
      "source": [
        "df[\"date_added\"].fillna(df[\"date_added\"].mode()[0],inplace = True)\n",
        "df[\"date_added\"]=pd.to_datetime(df[\"date_added\"])\n",
        "df['month'] = df[\"date_added\"].dt.month_name()\n",
        "df[\"year_added\"] = df[\"date_added\"].dt.year\n",
        "df[\"diff\"]= df[\"year_added\"]- df[\"release_year\"]"
      ],
      "metadata": {
        "id": "FRjGBgNL06O6"
      },
      "execution_count": null,
      "outputs": []
    },
    {
      "cell_type": "code",
      "execution_count": null,
      "metadata": {
        "colab": {
          "base_uri": "https://localhost:8080/",
          "height": 399
        },
        "id": "pBJrjmfNjGiv",
        "outputId": "07ed69c2-62fa-4f5a-81f1-2f39eb50833b"
      },
      "outputs": [
        {
          "output_type": "display_data",
          "data": {
            "text/plain": [
              "<Figure size 720x576 with 1 Axes>"
            ],
            "image/png": "[encoded data removed]"
          },
          "metadata": {
            "needs_background": "light"
          }
        }
      ],
      "source": [
        "# Does Netflix has more focus on TV Shows than movies in recent years.\n",
        "plt.figure(figsize=(10,8))\n",
        "sns.kdeplot(data = df,x =\"date_added\",hue='type')\n",
        "plt.title(\"content addition pattern\")\n",
        "plt.show()\n"
      ]
    },
    {
      "cell_type": "code",
      "source": [
        "plt.boxplot(df[\"diff\"])\n",
        "\n",
        "plt.title(\"difference between the release year and added year\")\n",
        "plt.xlabel(\"content\")\n",
        "plt.ylabel(\"difference\")\n",
        "plt.show()"
      ],
      "metadata": {
        "colab": {
          "base_uri": "https://localhost:8080/",
          "height": 295
        },
        "id": "pSzeQT9zRIk1",
        "outputId": "23cd52f3-8dc7-42a6-e767-a428dc35cc52"
      },
      "execution_count": null,
      "outputs": [
        {
          "output_type": "display_data",
          "data": {
            "text/plain": [
              "<Figure size 432x288 with 1 Axes>"
            ],
            "image/png": "[encoded data removed]"
          },
          "metadata": {
            "needs_background": "light"
          }
        }
      ]
    },
    {
      "cell_type": "code",
      "source": [
        "plt.figure(figsize=(8,8))\n",
        "sns.boxplot(data=df,x='year_added',y='type',hue='type')\n",
        "plt.legend(loc='upper left')\n",
        "plt.title(\"movie addition pattern\")\n",
        "plt.show()\n"
      ],
      "metadata": {
        "colab": {
          "base_uri": "https://localhost:8080/",
          "height": 514
        },
        "id": "MMp-rbdWXgWe",
        "outputId": "1e304e9f-1f6f-4d93-9573-37d4c21b67ff"
      },
      "execution_count": null,
      "outputs": [
        {
          "output_type": "display_data",
          "data": {
            "text/plain": [
              "<Figure size 576x576 with 1 Axes>"
            ],
            "image/png": "[encoded data removed]"
          },
          "metadata": {
            "needs_background": "light"
          }
        }
      ]
    },
    {
      "cell_type": "code",
      "source": [
        "sns.countplot(data= df,y=\"month\",hue =\"type\")\n",
        "plt.xticks(rotation = 90)\n",
        "plt.legend(bbox_to_anchor=(0, -0.15, 1, 0), loc=2, ncol=2, mode=\"expand\", borderaxespad=0)\n",
        "plt.title(\"content per month\")\n",
        "plt.show()\n"
      ],
      "metadata": {
        "colab": {
          "base_uri": "https://localhost:8080/",
          "height": 315
        },
        "id": "wXgwmUGY2t5i",
        "outputId": "765bdef4-10fd-4921-bebb-702b5c7367fd"
      },
      "execution_count": null,
      "outputs": [
        {
          "output_type": "display_data",
          "data": {
            "text/plain": [
              "<Figure size 432x288 with 1 Axes>"
            ],
            "image/png": "[encoded data removed]"
          },
          "metadata": {
            "needs_background": "light"
          }
        }
      ]
    },
    {
      "cell_type": "code",
      "source": [
        "# movie_release across month\n",
        "moviemonth = df[df[\"type\"]== \"Movie\"]\n",
        "movie_month = moviemonth[\"month\"].value_counts()\n",
        "sns.countplot(data = moviemonth, x = \"month\" ,order = moviemonth[\"month\"].value_counts().index)\n",
        "plt.xticks(rotation = 90)\n",
        "plt.title(\"movie per month\")\n",
        "plt.show()"
      ],
      "metadata": {
        "colab": {
          "base_uri": "https://localhost:8080/",
          "height": 340
        },
        "id": "4uZj4Jgk6X5A",
        "outputId": "93b5904b-f7f3-413b-e93f-1af679e0d25c"
      },
      "execution_count": null,
      "outputs": [
        {
          "output_type": "display_data",
          "data": {
            "text/plain": [
              "<Figure size 432x288 with 1 Axes>"
            ],
            "image/png": "[encoded data removed]"
          },
          "metadata": {
            "needs_background": "light"
          }
        }
      ]
    },
    {
      "cell_type": "code",
      "source": [
        "# Tv show_release across month\n",
        "Tvmonth = df[df[\"type\"]== \"TV Show\"]\n",
        "tv_month = Tvmonth[\"month\"].value_counts()\n",
        "sns.countplot(data = Tvmonth, x = \"month\" ,order = Tvmonth[\"month\"].value_counts().index)\n",
        "plt.xticks(rotation = 90)\n",
        "plt.title(\"TV show per month\")"
      ],
      "metadata": {
        "colab": {
          "base_uri": "https://localhost:8080/",
          "height": 357
        },
        "id": "UqHFjBd3CC-Q",
        "outputId": "819cb7d8-a64c-4889-fc9e-3a8fa545848b"
      },
      "execution_count": null,
      "outputs": [
        {
          "output_type": "execute_result",
          "data": {
            "text/plain": [
              "Text(0.5, 1.0, 'TV show per month')"
            ]
          },
          "metadata": {},
          "execution_count": 37
        },
        {
          "output_type": "display_data",
          "data": {
            "text/plain": [
              "<Figure size 432x288 with 1 Axes>"
            ],
            "image/png": "[encoded data removed]"
          },
          "metadata": {
            "needs_background": "light"
          }
        }
      ]
    },
    {
      "cell_type": "code",
      "source": [
        "# Insights based on Non-Graphical and Visual Analysis\n",
        "# ** Non-Graphical Insights**\n",
        "# •\tNetflix have content from 198 different countries\n",
        "# •\tMost poular cast is Jeff Dunham like we observed in the statistical description\n",
        "# •\tMost popular director is Marcus Raboy\n",
        "# •\tMost contents are from United States\n",
        "# •\tRajiv Chilaka - Julie Tejwani and Rajiv Chilaka - Rajesh Kava is the most occurred director cast pair\n",
        "# •\tthe most popular genres are international movies, dramas, comedies\n",
        "# •\tmovies and Tv shows are in proportion 72:28\n",
        "# •\tAverage duration of a movie is 103 mins and TV show is 1 season\n",
        "\n",
        "# Visual Analysis\n",
        "# •\tThe popular genres among all the contents are analysed in this graph in decreasing order. The three most popular genres are International movies, dramas, comedies\n",
        "# •\tThere is a steep increase in the number of the movie releases after 2000\n",
        "# •\tThough the number of tv shows getting added have increased in present years, still number of movies added are more than the number of TV shows\n",
        "# •\tThe difference between the release year of a movie and year it got added to Netflix give and insight about the delay for content to be released in ott. The median is coming nearly zero.\n",
        "# •\tThe most of movies are added in between 2018,2019\n",
        "# •\tThe most movies are released on July, April , December , January\n",
        "# •\tMost TV shows are released December, July and September\n"
      ],
      "metadata": {
        "id": "IWIwEJktDZki"
      },
      "execution_count": null,
      "outputs": []
    },
    {
      "cell_type": "code",
      "source": [
        "# Business Insights\n",
        "# •\tThe most popular cast, director, director-cast pair indicates the audience interest in those content\n",
        "# •\tOn and after covid there is exponential increase in the content addition\n",
        "# •\tThe median difference between the release year and addition to the platform being nearly zero is a good hint of less delay.\n",
        "# •\tThe most movies and Tv shows are released are in summer vacation time (april and july(us) ) and winter vacation time\n",
        "\n",
        "# Recommendations\n",
        "# •\tGetting more contents having ppl favourite actor, director, genres, actor – director can bring more audience. Finding these for every country can be used attract more audience from countries with less subscribers\n",
        "# •\tThe more content addition including tv shows as much movies can attract more subscribers as post covid lockdowns as customers are willing to try more on ott platforms\n",
        "# •\tMore content releases especially tv shows before vacation time is preferable\n"
      ],
      "metadata": {
        "id": "vha3PCPH-RI4"
      },
      "execution_count": null,
      "outputs": []
    }
  ],
  "metadata": {
    "colab": {
      "provenance": [],
      "authorship_tag": "ABX9TyMX8MU61lI69E7j7clyU+nf",
      "include_colab_link": true
    },
    "kernelspec": {
      "display_name": "Python 3",
      "name": "python3"
    },
    "language_info": {
      "name": "python"
    }
  },
  "nbformat": 4,
  "nbformat_minor": 0
}